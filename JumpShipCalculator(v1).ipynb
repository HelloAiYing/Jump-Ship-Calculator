{
  "nbformat": 4,
  "nbformat_minor": 0,
  "metadata": {
    "colab": {
      "provenance": []
    },
    "kernelspec": {
      "name": "python3",
      "display_name": "Python 3"
    },
    "language_info": {
      "name": "python"
    }
  },
  "cells": [
    {
      "cell_type": "markdown",
      "source": [
        "Variables:\n",
        "1. coypay: how much basic pay they offer\n",
        "2. coyal: how many days of AL they give\n",
        "3. coybonus: how many months of bonus + aws in total they would give? (take a max)\n",
        "4. coyflexi: how much flexi they give\n",
        "\n",
        "5. nowpay: what is your current basic pay\n",
        "6. nowal: how many days of AL you have\n",
        "7. nowbonus: how many months of bonus + aws in total would u have? (take a max)\n",
        "8. nowflexi: how much flexi u have\n",
        "\n",
        "9. how much total they offer per annum\n",
        "coytotal = coypay*12 + ((coypay/160)*coyal) + (coybonus*coypay) + coyflexi\n",
        "\n",
        "10. how much u earn now per annum\n",
        "nowtotal = nowpay*12 + ((nowpay/160)*nowal) + (nowbonus*nowpay) + nowflexi\n",
        "\n",
        "11. how much increment in total per year\n",
        "((coytotal - nowtotal) / nowtotal)*100"
      ],
      "metadata": {
        "id": "hhU2dM4ZWgW_"
      }
    },
    {
      "cell_type": "code",
      "execution_count": 1,
      "metadata": {
        "colab": {
          "base_uri": "https://localhost:8080/"
        },
        "id": "tyRi4lACURC1",
        "outputId": "4e9012da-ba6a-4964-ab14-6a8736431773"
      },
      "outputs": [
        {
          "output_type": "stream",
          "name": "stdout",
          "text": [
            "Enter the new company's basic pay (per month): 5000\n",
            "Enter the new company's annual leave days: 16\n",
            "Enter the new company's total months of bonus + AWS: 3\n",
            "Enter the new company's flexi benefits: 2000\n",
            "Enter your current basic pay (per month): 4200\n",
            "Enter your current annual leave days: 24\n",
            "Enter your current total months of bonus + AWS: 3\n",
            "Enter your current flexi benefits: 0\n",
            "Increment is 21.80%. Maybe can consider.\n"
          ]
        }
      ],
      "source": [
        "def compare_offers(coypay, coyal, coybonus, coyflexi, nowpay, nowal, nowbonus, nowflexi):\n",
        "    # Calculate total package for the new company\n",
        "    coytotal = (coypay * 12) + ((coypay / 160) * coyal) + (coybonus * coypay) + coyflexi\n",
        "\n",
        "    # Calculate total package for the current job\n",
        "    nowtotal = (nowpay * 12) + ((nowpay / 160) * nowal) + (nowbonus * nowpay) + nowflexi\n",
        "\n",
        "    # Calculate the increment percentage\n",
        "    increment = ((coytotal - nowtotal) / nowtotal) * 100\n",
        "\n",
        "    # Output suggestions based on the increment\n",
        "    if increment > 30:\n",
        "        print(f\"Increment is {increment:.2f}%. Can highlight consider.\")\n",
        "    elif increment > 20:\n",
        "        print(f\"Increment is {increment:.2f}%. Maybe can consider.\")\n",
        "    elif increment > 10:\n",
        "        print(f\"Increment is {increment:.2f}%. Not worth.\")\n",
        "    else:\n",
        "        print(f\"Increment is {increment:.2f}%. Definitely not worth.\")\n",
        "\n",
        "# Example of usage:\n",
        "coypay = float(input(\"Enter the new company's basic pay (per month): \"))\n",
        "coyal = float(input(\"Enter the new company's annual leave days: \"))\n",
        "coybonus = float(input(\"Enter the new company's total months of bonus + AWS: \"))\n",
        "coyflexi = float(input(\"Enter the new company's flexi benefits: \"))\n",
        "\n",
        "nowpay = float(input(\"Enter your current basic pay (per month): \"))\n",
        "nowal = float(input(\"Enter your current annual leave days: \"))\n",
        "nowbonus = float(input(\"Enter your current total months of bonus + AWS: \"))\n",
        "nowflexi = float(input(\"Enter your current flexi benefits: \"))\n",
        "\n",
        "compare_offers(coypay, coyal, coybonus, coyflexi, nowpay, nowal, nowbonus, nowflexi)"
      ]
    }
  ]
}